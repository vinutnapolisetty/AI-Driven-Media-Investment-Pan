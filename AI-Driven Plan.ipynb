{
  "nbformat": 4,
  "nbformat_minor": 0,
  "metadata": {
    "colab": {
      "provenance": []
    },
    "kernelspec": {
      "name": "python3",
      "display_name": "Python 3"
    },
    "language_info": {
      "name": "python"
    }
  },
  "cells": [
    {
      "cell_type": "markdown",
      "source": [
        "Loading the data\n"
      ],
      "metadata": {
        "id": "ujBfb7y6Rmht"
      }
    },
    {
      "cell_type": "code",
      "execution_count": 1,
      "metadata": {
        "id": "yorYBXZMKhbk"
      },
      "outputs": [],
      "source": [
        "import pandas as pd\n",
        "# Load data\n",
        "google = pd.read_csv('/content/googleads-performance.csv')\n",
        "microsoft = pd.read_csv('/content/microsoftads-performance.csv')\n",
        "meta = pd.read_csv('/content/metaads-performance.csv')\n",
        "website = pd.read_csv('/content/website-landings.csv')"
      ]
    },
    {
      "cell_type": "markdown",
      "source": [
        "Adding Source_Category to Google, Microsoft and Meta"
      ],
      "metadata": {
        "id": "E2inXtD1R014"
      }
    },
    {
      "cell_type": "code",
      "source": [
        "google['Source_Category']='Google'\n",
        "microsoft['Source_Category']='Microsoft'\n",
        "meta['Source_Category']='Meta'"
      ],
      "metadata": {
        "id": "XK1T4Xi7Kk_Y"
      },
      "execution_count": 2,
      "outputs": []
    },
    {
      "cell_type": "markdown",
      "source": [
        "Assuming Campaign Type of Meta as \"General\""
      ],
      "metadata": {
        "id": "D6Avpqe2R4GI"
      }
    },
    {
      "cell_type": "code",
      "source": [
        "meta['Campaign type']='General'"
      ],
      "metadata": {
        "id": "t8ai-bMzKnOy"
      },
      "execution_count": 3,
      "outputs": []
    },
    {
      "cell_type": "markdown",
      "source": [
        "Concatenating DataFrames for Google, Microsoft and Meta to bring all related data together into a single structure, making it easier to analyze as a whole."
      ],
      "metadata": {
        "id": "gLJuxWacR6zH"
      }
    },
    {
      "cell_type": "code",
      "source": [
        "ads_data = pd.concat([google, microsoft, meta], ignore_index=True)"
      ],
      "metadata": {
        "id": "iVAkfppaKrKV"
      },
      "execution_count": 4,
      "outputs": []
    },
    {
      "cell_type": "code",
      "source": [
        "ads_data.drop(columns=['Reach'], inplace=True)"
      ],
      "metadata": {
        "id": "wMlpzzuWKthd"
      },
      "execution_count": 5,
      "outputs": []
    },
    {
      "cell_type": "markdown",
      "source": [
        "Summary of the Dataframes"
      ],
      "metadata": {
        "id": "n-B6nZtuRwzz"
      }
    },
    {
      "cell_type": "code",
      "source": [
        "ads_data.info()"
      ],
      "metadata": {
        "colab": {
          "base_uri": "https://localhost:8080/"
        },
        "id": "xk7lvS_aKwOf",
        "outputId": "fc9c7cd1-2209-4c94-c4f8-ae880576057e"
      },
      "execution_count": 6,
      "outputs": [
        {
          "output_type": "stream",
          "name": "stdout",
          "text": [
            "<class 'pandas.core.frame.DataFrame'>\n",
            "RangeIndex: 1617 entries, 0 to 1616\n",
            "Data columns (total 8 columns):\n",
            " #   Column           Non-Null Count  Dtype  \n",
            "---  ------           --------------  -----  \n",
            " 0   Date             1617 non-null   object \n",
            " 1   Campaign type    1617 non-null   object \n",
            " 2   Impressions      1617 non-null   float64\n",
            " 3   Clicks           1617 non-null   float64\n",
            " 4   Cost             1617 non-null   float64\n",
            " 5   Conversions      1617 non-null   float64\n",
            " 6   Revenue          1617 non-null   float64\n",
            " 7   Source_Category  1617 non-null   object \n",
            "dtypes: float64(5), object(3)\n",
            "memory usage: 101.2+ KB\n"
          ]
        }
      ]
    },
    {
      "cell_type": "code",
      "source": [
        "website.info()"
      ],
      "metadata": {
        "colab": {
          "base_uri": "https://localhost:8080/"
        },
        "id": "4R9Ta9DtK7NI",
        "outputId": "3cc07339-7338-4e37-f2c6-18c0a03713b1"
      },
      "execution_count": 7,
      "outputs": [
        {
          "output_type": "stream",
          "name": "stdout",
          "text": [
            "<class 'pandas.core.frame.DataFrame'>\n",
            "RangeIndex: 1586314 entries, 0 to 1586313\n",
            "Data columns (total 6 columns):\n",
            " #   Column                Non-Null Count    Dtype \n",
            "---  ------                --------------    ----- \n",
            " 0   User Id               1586314 non-null  object\n",
            " 1   Website Landing Time  1586314 non-null  object\n",
            " 2   Is Converted          1586314 non-null  int64 \n",
            " 3   Source                971465 non-null   object\n",
            " 4   Channel               1586314 non-null  object\n",
            " 5   Campaign Type         640729 non-null   object\n",
            "dtypes: int64(1), object(5)\n",
            "memory usage: 72.6+ MB\n"
          ]
        }
      ]
    },
    {
      "cell_type": "markdown",
      "source": [
        "Distribution of Impressions, Clicks, Cost, Conversions, and Revenue"
      ],
      "metadata": {
        "id": "0QtPUcobSURK"
      }
    },
    {
      "cell_type": "code",
      "source": [
        "import matplotlib.pyplot as plt\n",
        "import seaborn as sns\n",
        "features = ['Impressions', 'Clicks', 'Cost', 'Conversions', 'Revenue']\n",
        "\n",
        "plt.figure(figsize=(12, 8))\n",
        "for i, feature in enumerate(features, 1):\n",
        "    plt.subplot(2, 3, i)\n",
        "    sns.histplot(ads_data[feature], kde=True)\n",
        "    plt.title(f'Distribution of {feature}')\n",
        "plt.tight_layout()\n",
        "plt.show()"
      ],
      "metadata": {
        "colab": {
          "base_uri": "https://localhost:8080/",
          "height": 756
        },
        "id": "QucJCe_bSQ8g",
        "outputId": "2fca4e62-ce54-4094-b6e2-b6f716969347"
      },
      "execution_count": 8,
      "outputs": [
        {
          "output_type": "display_data",
          "data": {
            "text/plain": [
              "<Figure size 1200x800 with 5 Axes>"
            ],
            "image/png": "[encoded data removed]"
          },
          "metadata": {}
        }
      ]
    },
    {
      "cell_type": "markdown",
      "source": [
        "Bar Plot for Source_Category"
      ],
      "metadata": {
        "id": "Z9fQBwQrSYxL"
      }
    },
    {
      "cell_type": "code",
      "source": [
        "plt.figure(figsize=(10, 5))\n",
        "sns.countplot(data=ads_data, x='Source_Category')\n",
        "plt.title('Distribution of Source Categories')\n",
        "plt.show()"
      ],
      "metadata": {
        "colab": {
          "base_uri": "https://localhost:8080/",
          "height": 487
        },
        "id": "e0CRbfKySZ91",
        "outputId": "109a8a82-08d0-4151-b966-2be578a6d20a"
      },
      "execution_count": 9,
      "outputs": [
        {
          "output_type": "display_data",
          "data": {
            "text/plain": [
              "<Figure size 1000x500 with 1 Axes>"
            ],
            "image/png": "[encoded data removed]"
          },
          "metadata": {}
        }
      ]
    },
    {
      "cell_type": "markdown",
      "source": [
        "Correlation Heatmap"
      ],
      "metadata": {
        "id": "CvYp48tCSfw1"
      }
    },
    {
      "cell_type": "code",
      "source": [
        "plt.figure(figsize=(8, 6))\n",
        "corr_matrix = ads_data[['Impressions', 'Clicks', 'Cost', 'Conversions', 'Revenue']].corr()\n",
        "sns.heatmap(corr_matrix, annot=True, cmap='coolwarm')\n",
        "plt.title('Correlation Heatmap')\n",
        "plt.show()"
      ],
      "metadata": {
        "colab": {
          "base_uri": "https://localhost:8080/",
          "height": 545
        },
        "id": "Z4P0F1PUSebu",
        "outputId": "2bee384e-a62c-45b3-bec1-9f5f41ba9be2"
      },
      "execution_count": 10,
      "outputs": [
        {
          "output_type": "display_data",
          "data": {
            "text/plain": [
              "<Figure size 800x600 with 2 Axes>"
            ],
            "image/png": "[encoded data removed]"
          },
          "metadata": {}
        }
      ]
    },
    {
      "cell_type": "markdown",
      "source": [
        "Printing Unique Values of Source"
      ],
      "metadata": {
        "id": "g-iiPoZmSmy8"
      }
    },
    {
      "cell_type": "code",
      "source": [
        "print(website['Source'].unique())"
      ],
      "metadata": {
        "colab": {
          "base_uri": "https://localhost:8080/"
        },
        "id": "J3casK38K9bU",
        "outputId": "6c7943b5-ae2a-4415-d024-e48976d24bca"
      },
      "execution_count": 11,
      "outputs": [
        {
          "output_type": "stream",
          "name": "stdout",
          "text": [
            "[nan 'google' 'yahoo!' 'pinterest' 'facebook' 'duckduckgo' 'youtube'\n",
            " 'bing' 'criteo' 'taboola' 'reddit' 'ecosia' 'tiktok' 'instagram'\n",
            " 'outbrain' 'outlook.com' 'yahoo! mail' 'gmail' 'baidu' 'aol' 'hi5'\n",
            " 'infospace' 'twitter' 'aol mail' 'snapchat' 'qq mail' 'yahoo! images'\n",
            " 'seznam mail' 'earthlink' 'qwant' 't-online' 'optus zoo' 'google images'\n",
            " 'startsiden' 'bigpond' 'naver' 'linkedin' 'quora' 'atlas' 'yandex'\n",
            " 'myheritage' 'tumblr' 'mail.ru' 'skype' 'daum' 'odnoklassniki'\n",
            " 'google news' 'zoho' 'lilo' 'amazon' 'seznam' 'kvasir' 'hacker news'\n",
            " 'coccoc' 'startpagina']\n"
          ]
        }
      ]
    },
    {
      "cell_type": "code",
      "source": [
        "source_mapping = {\n",
        "    'google': 'Google',\n",
        "    'youtube': 'Google',\n",
        "    'google images': 'Google',\n",
        "    'facebook': 'Meta',\n",
        "    'instagram': 'Meta',\n",
        "    'whatsapp': 'Meta',\n",
        "    'bing': 'Microsoft',\n",
        "    'outlook.com': 'Microsoft',\n",
        "    'hotmail': 'Microsoft',\n",
        "    'gmail': 'Google',\n",
        "    'google news': 'Google',\n",
        "}\n",
        "# Apply mapping to website_df\n",
        "website['Source_Category'] = website['Source'].apply(lambda x: source_mapping.get(x, None))\n",
        "\n",
        "# Filter out rows where Source_Category is NaN\n",
        "website_df = website[website['Source_Category'].notna()]"
      ],
      "metadata": {
        "id": "6j2CMOVxLEMh"
      },
      "execution_count": 12,
      "outputs": []
    },
    {
      "cell_type": "code",
      "source": [
        "website_df.info()"
      ],
      "metadata": {
        "colab": {
          "base_uri": "https://localhost:8080/"
        },
        "id": "ssKrnBU9IYW4",
        "outputId": "daf04365-10a1-4e6a-afcc-381e5087baf5"
      },
      "execution_count": 13,
      "outputs": [
        {
          "output_type": "stream",
          "name": "stdout",
          "text": [
            "<class 'pandas.core.frame.DataFrame'>\n",
            "Index: 909150 entries, 7 to 1586313\n",
            "Data columns (total 7 columns):\n",
            " #   Column                Non-Null Count   Dtype \n",
            "---  ------                --------------   ----- \n",
            " 0   User Id               909150 non-null  object\n",
            " 1   Website Landing Time  909150 non-null  object\n",
            " 2   Is Converted          909150 non-null  int64 \n",
            " 3   Source                909150 non-null  object\n",
            " 4   Channel               909150 non-null  object\n",
            " 5   Campaign Type         640729 non-null  object\n",
            " 6   Source_Category       909150 non-null  object\n",
            "dtypes: int64(1), object(6)\n",
            "memory usage: 55.5+ MB\n"
          ]
        }
      ]
    },
    {
      "cell_type": "code",
      "source": [
        "print(website_df['Channel'].unique())"
      ],
      "metadata": {
        "colab": {
          "base_uri": "https://localhost:8080/"
        },
        "id": "_ZNVPBtaInML",
        "outputId": "1caa6798-ff5d-410c-9690-b483274ce9dd"
      },
      "execution_count": 14,
      "outputs": [
        {
          "output_type": "stream",
          "name": "stdout",
          "text": [
            "['organic search' 'paid' 'social' 'email' 'referral' 'paid search']\n"
          ]
        }
      ]
    },
    {
      "cell_type": "markdown",
      "source": [
        "Grouping Website Dataframe by Campaign Type, Channel and Source_Category"
      ],
      "metadata": {
        "id": "7iiINpnAS4_H"
      }
    },
    {
      "cell_type": "code",
      "source": [
        "grouped_website_df = website_df.groupby(['Campaign Type', 'Channel', 'Source_Category']).agg({\n",
        "    'Is Converted': ['sum', 'mean'], # Total conversions and conversion rate\n",
        "    'User Id': 'count'  # Number of users (or entries) per group\n",
        "}).reset_index()"
      ],
      "metadata": {
        "id": "FBjzFYjaTB8u"
      },
      "execution_count": 15,
      "outputs": []
    },
    {
      "cell_type": "code",
      "source": [
        "grouped_website_df.columns = ['_'.join(col).strip() for col in grouped_website_df.columns.values]\n",
        "grouped_website_df.rename(columns={\n",
        "    'Is Converted_sum': 'Total_Conversions',\n",
        "    'Is Converted_mean': 'Conversion_Rate',\n",
        "    'User Id_count': 'User_Count'\n",
        "}, inplace=True)\n",
        "\n",
        "# Display the grouped DataFrame\n",
        "print(grouped_website_df)"
      ],
      "metadata": {
        "id": "8lGZR3ykTHEl",
        "outputId": "a0e088b2-6df1-42c5-c116-b65ca40fb9fc",
        "colab": {
          "base_uri": "https://localhost:8080/"
        }
      },
      "execution_count": 16,
      "outputs": [
        {
          "output_type": "stream",
          "name": "stdout",
          "text": [
            "     Campaign Type_ Channel_ Source_Category_  Total_Conversions  \\\n",
            "0          Audience     paid        Microsoft                140   \n",
            "1     Cross-network     paid           Google               5925   \n",
            "2   Display Network     paid           Google                  0   \n",
            "3   Performance max     paid        Microsoft                 89   \n",
            "4  Search & content     paid        Microsoft               1016   \n",
            "5    Search Network     paid           Google               1476   \n",
            "6          Shopping     paid        Microsoft                643   \n",
            "7           YouTube     paid           Google                 13   \n",
            "\n",
            "   Conversion_Rate  User_Count  \n",
            "0         0.012791       10945  \n",
            "1         0.015371      385470  \n",
            "2         0.000000          25  \n",
            "3         0.012769        6970  \n",
            "4         0.011346       89544  \n",
            "5         0.016270       90721  \n",
            "6         0.011471       56052  \n",
            "7         0.012974        1002  \n"
          ]
        }
      ]
    },
    {
      "cell_type": "markdown",
      "source": [
        "Conversion of 'Website Landing Time' to DateTime Format"
      ],
      "metadata": {
        "id": "SKdtJwCbTZFr"
      }
    },
    {
      "cell_type": "code",
      "source": [
        "website_df['Website Landing Time'] = pd.to_datetime(website_df['Website Landing Time'], errors='coerce')\n",
        "\n",
        "# Check if conversion worked\n",
        "print(website_df['Website Landing Time'].dtype)  # Should be datetime64[ns]"
      ],
      "metadata": {
        "colab": {
          "base_uri": "https://localhost:8080/"
        },
        "id": "D48M-mtPL3pG",
        "outputId": "f56505d1-14eb-401b-bb46-8f5c5f0349b2"
      },
      "execution_count": 17,
      "outputs": [
        {
          "output_type": "stream",
          "name": "stdout",
          "text": [
            "datetime64[ns]\n"
          ]
        },
        {
          "output_type": "stream",
          "name": "stderr",
          "text": [
            "<ipython-input-17-16ec6f8e6a4f>:1: SettingWithCopyWarning: \n",
            "A value is trying to be set on a copy of a slice from a DataFrame.\n",
            "Try using .loc[row_indexer,col_indexer] = value instead\n",
            "\n",
            "See the caveats in the documentation: https://pandas.pydata.org/pandas-docs/stable/user_guide/indexing.html#returning-a-view-versus-a-copy\n",
            "  website_df['Website Landing Time'] = pd.to_datetime(website_df['Website Landing Time'], errors='coerce')\n"
          ]
        }
      ]
    },
    {
      "cell_type": "markdown",
      "source": [
        "Feature Extraction from Website Data"
      ],
      "metadata": {
        "id": "1blg2-I0TfXR"
      }
    },
    {
      "cell_type": "code",
      "source": [
        "def extract_features(df):\n",
        "    df['Conversion_Rate'] = df.groupby(['Source_Category', 'Campaign Type'])['Is Converted'].transform('mean')\n",
        "\n",
        "    def avg_time_lag(series):\n",
        "        if len(series) > 1:\n",
        "            time_diff = (series.max() - series.min()).total_seconds()\n",
        "            return time_diff / (len(series) - 1)  # Avoid division by zero\n",
        "        else:\n",
        "            return 0\n",
        "\n",
        "    df['Avg_Time_Lag'] = df.groupby(['Source_Category', 'Campaign Type'])['Website Landing Time'].transform(lambda x: avg_time_lag(x))\n",
        "\n",
        "    return df[['Source_Category', 'Campaign Type', 'Conversion_Rate', 'Avg_Time_Lag', 'Channel']].drop_duplicates()\n",
        "\n",
        "# Extract features\n",
        "website_features = extract_features(website_df)"
      ],
      "metadata": {
        "colab": {
          "base_uri": "https://localhost:8080/"
        },
        "id": "5CNCGiRlO7OF",
        "outputId": "9b31139f-a7d0-4220-ca78-e4399c2dac6e"
      },
      "execution_count": 18,
      "outputs": [
        {
          "output_type": "stream",
          "name": "stderr",
          "text": [
            "<ipython-input-18-7d480ecf9518>:2: SettingWithCopyWarning: \n",
            "A value is trying to be set on a copy of a slice from a DataFrame.\n",
            "Try using .loc[row_indexer,col_indexer] = value instead\n",
            "\n",
            "See the caveats in the documentation: https://pandas.pydata.org/pandas-docs/stable/user_guide/indexing.html#returning-a-view-versus-a-copy\n",
            "  df['Conversion_Rate'] = df.groupby(['Source_Category', 'Campaign Type'])['Is Converted'].transform('mean')\n",
            "<ipython-input-18-7d480ecf9518>:11: SettingWithCopyWarning: \n",
            "A value is trying to be set on a copy of a slice from a DataFrame.\n",
            "Try using .loc[row_indexer,col_indexer] = value instead\n",
            "\n",
            "See the caveats in the documentation: https://pandas.pydata.org/pandas-docs/stable/user_guide/indexing.html#returning-a-view-versus-a-copy\n",
            "  df['Avg_Time_Lag'] = df.groupby(['Source_Category', 'Campaign Type'])['Website Landing Time'].transform(lambda x: avg_time_lag(x))\n"
          ]
        }
      ]
    },
    {
      "cell_type": "markdown",
      "source": [
        "Mapping Features to Ads Data"
      ],
      "metadata": {
        "id": "AscsMNMkTn0h"
      }
    },
    {
      "cell_type": "code",
      "source": [
        "# Create mapping dictionaries\n",
        "conversion_rate_map = website_features.set_index(['Source_Category', 'Campaign Type'])['Conversion_Rate'].to_dict()\n",
        "avg_time_lag_map = website_features.set_index(['Source_Category', 'Campaign Type'])['Avg_Time_Lag'].to_dict()\n",
        "channel_map = website_features.set_index(['Source_Category', 'Campaign Type'])['Channel'].to_dict()\n",
        "\n",
        "# Map features to ad_data\n",
        "ads_data['Conversion_Rate'] = ads_data.apply(lambda row: conversion_rate_map.get((row['Source_Category'], row['Campaign type']), 0), axis=1)\n",
        "ads_data['Avg_Time_Lag'] = ads_data.apply(lambda row: avg_time_lag_map.get((row['Source_Category'], row['Campaign type']), 0), axis=1)\n",
        "ads_data['Channel'] = ads_data.apply(lambda row: channel_map.get((row['Source_Category'], row['Campaign type']), 0), axis=1)\n",
        "\n",
        "# Check the updated ad_data\n",
        "print(ads_data.head())\n"
      ],
      "metadata": {
        "colab": {
          "base_uri": "https://localhost:8080/"
        },
        "id": "XDcjXN8hLfX2",
        "outputId": "9ffcc762-2005-4982-d6a6-9786f85ae40f"
      },
      "execution_count": 19,
      "outputs": [
        {
          "output_type": "stream",
          "name": "stdout",
          "text": [
            "         Date    Campaign type  Impressions  Clicks    Cost  Conversions  \\\n",
            "0  2024-01-01    Cross-network     143669.0   896.0   656.3          6.5   \n",
            "1  2024-01-01  Display Network          3.0     0.0     0.0          0.0   \n",
            "2  2024-01-01   Search Network       3701.0   251.0   496.5          4.5   \n",
            "3  2024-01-01          YouTube      36211.0     8.0   115.2          0.0   \n",
            "4  2024-01-02    Cross-network     183496.0  1172.0  1525.0          8.8   \n",
            "\n",
            "   Revenue Source_Category  Conversion_Rate   Avg_Time_Lag Channel  \n",
            "0   1410.3          Google         0.015371      40.793737    paid  \n",
            "1      0.0          Google         0.000000  317264.625000    paid  \n",
            "2    576.4          Google         0.016270     173.328384    paid  \n",
            "3      0.0          Google         0.012974   15698.000999    paid  \n",
            "4   3565.7          Google         0.015371      40.793737    paid  \n"
          ]
        }
      ]
    },
    {
      "cell_type": "markdown",
      "source": [
        "Converting 'Channel' Column to String Type"
      ],
      "metadata": {
        "id": "Es4qKpKqTwxz"
      }
    },
    {
      "cell_type": "code",
      "source": [
        "ads_data['Channel'] = ads_data['Channel'].astype(str)"
      ],
      "metadata": {
        "id": "S8ABjzH-RR_6"
      },
      "execution_count": 20,
      "outputs": []
    },
    {
      "cell_type": "markdown",
      "source": [
        "Converting Categorical features to Numerical Features using Label Encoder"
      ],
      "metadata": {
        "id": "OQbczUDST3Og"
      }
    },
    {
      "cell_type": "code",
      "source": [
        "from sklearn.preprocessing import LabelEncoder\n",
        "label_encoder_campaign = LabelEncoder()\n",
        "label_encoder_source = LabelEncoder()\n",
        "label_encoder_channel = LabelEncoder()\n",
        "ads_data['Campaign type'] = label_encoder_campaign.fit_transform(ads_data['Campaign type'])\n",
        "ads_data['Source_Category'] = label_encoder_source.fit_transform(ads_data['Source_Category'])\n",
        "ads_data['Channel'] = label_encoder_channel.fit_transform(ads_data['Channel'])"
      ],
      "metadata": {
        "id": "gPmvLWjkQiSC"
      },
      "execution_count": 21,
      "outputs": []
    },
    {
      "cell_type": "markdown",
      "source": [
        "Separating Features and Target Variable from DataFrame"
      ],
      "metadata": {
        "id": "ACooJGs-T8h1"
      }
    },
    {
      "cell_type": "code",
      "source": [
        "X = ads_data.drop(['Conversions', 'Date'], axis=1)\n",
        "y = ads_data['Conversions']\n"
      ],
      "metadata": {
        "id": "n1xls9RACiXB"
      },
      "execution_count": 22,
      "outputs": []
    },
    {
      "cell_type": "markdown",
      "source": [
        "Scaling Numerical Features and Target Variable"
      ],
      "metadata": {
        "id": "84f40h2ET_UF"
      }
    },
    {
      "cell_type": "code",
      "source": [
        "from sklearn.preprocessing import StandardScaler\n",
        "numerical_features = ['Impressions', 'Clicks', 'Cost', 'Revenue','Conversion_Rate','Avg_Time_Lag']\n",
        "# Initialize the StandardScaler\n",
        "X_scaler = StandardScaler()\n",
        "y_scaler=StandardScaler()\n",
        "# Fit and transform the data\n",
        "X[numerical_features] = X_scaler.fit_transform(X[numerical_features])\n",
        "y = y.values.reshape(-1, 1)  # Reshape for scaling\n",
        "y_scaled = y_scaler.fit_transform(y)\n",
        "y = pd.DataFrame(y_scaled, columns=['Conversions'])"
      ],
      "metadata": {
        "id": "UsF2RYGPCj9x"
      },
      "execution_count": 23,
      "outputs": []
    },
    {
      "cell_type": "markdown",
      "source": [
        "Splitting the Data into Training and Testing Sets"
      ],
      "metadata": {
        "id": "5HNNKhPHUEp5"
      }
    },
    {
      "cell_type": "code",
      "source": [
        "from sklearn.model_selection import train_test_split\n",
        "X_train,X_test,y_train,y_test=train_test_split(X,y,test_size=0.2,random_state=42)"
      ],
      "metadata": {
        "id": "qHSc8DVOCuQD"
      },
      "execution_count": 24,
      "outputs": []
    },
    {
      "cell_type": "markdown",
      "source": [
        "Training Random Forest Regressor"
      ],
      "metadata": {
        "id": "69dc6TLQUH67"
      }
    },
    {
      "cell_type": "code",
      "source": [
        "from sklearn.ensemble import RandomForestRegressor\n",
        "model = RandomForestRegressor(n_estimators=100, random_state=42)\n",
        "model.fit(X_train, y_train)\n"
      ],
      "metadata": {
        "colab": {
          "base_uri": "https://localhost:8080/",
          "height": 129
        },
        "id": "5MoOguQWCwWe",
        "outputId": "143a1872-c637-462e-fa37-440dee66af58"
      },
      "execution_count": 25,
      "outputs": [
        {
          "output_type": "stream",
          "name": "stderr",
          "text": [
            "/usr/local/lib/python3.10/dist-packages/sklearn/base.py:1152: DataConversionWarning: A column-vector y was passed when a 1d array was expected. Please change the shape of y to (n_samples,), for example using ravel().\n",
            "  return fit_method(estimator, *args, **kwargs)\n"
          ]
        },
        {
          "output_type": "execute_result",
          "data": {
            "text/plain": [
              "RandomForestRegressor(random_state=42)"
            ],
            "text/html": [
              "<style>#sk-container-id-1 {color: black;}#sk-container-id-1 pre{padding: 0;}#sk-container-id-1 div.sk-toggleable {background-color: white;}#sk-container-id-1 label.sk-toggleable__label {cursor: pointer;display: block;width: 100%;margin-bottom: 0;padding: 0.3em;box-sizing: border-box;text-align: center;}#sk-container-id-1 label.sk-toggleable__label-arrow:before {content: \"▸\";float: left;margin-right: 0.25em;color: #696969;}#sk-container-id-1 label.sk-toggleable__label-arrow:hover:before {color: black;}#sk-container-id-1 div.sk-estimator:hover label.sk-toggleable__label-arrow:before {color: black;}#sk-container-id-1 div.sk-toggleable__content {max-height: 0;max-width: 0;overflow: hidden;text-align: left;background-color: #f0f8ff;}#sk-container-id-1 div.sk-toggleable__content pre {margin: 0.2em;color: black;border-radius: 0.25em;background-color: #f0f8ff;}#sk-container-id-1 input.sk-toggleable__control:checked~div.sk-toggleable__content {max-height: 200px;max-width: 100%;overflow: auto;}#sk-container-id-1 input.sk-toggleable__control:checked~label.sk-toggleable__label-arrow:before {content: \"▾\";}#sk-container-id-1 div.sk-estimator input.sk-toggleable__control:checked~label.sk-toggleable__label {background-color: #d4ebff;}#sk-container-id-1 div.sk-label input.sk-toggleable__control:checked~label.sk-toggleable__label {background-color: #d4ebff;}#sk-container-id-1 input.sk-hidden--visually {border: 0;clip: rect(1px 1px 1px 1px);clip: rect(1px, 1px, 1px, 1px);height: 1px;margin: -1px;overflow: hidden;padding: 0;position: absolute;width: 1px;}#sk-container-id-1 div.sk-estimator {font-family: monospace;background-color: #f0f8ff;border: 1px dotted black;border-radius: 0.25em;box-sizing: border-box;margin-bottom: 0.5em;}#sk-container-id-1 div.sk-estimator:hover {background-color: #d4ebff;}#sk-container-id-1 div.sk-parallel-item::after {content: \"\";width: 100%;border-bottom: 1px solid gray;flex-grow: 1;}#sk-container-id-1 div.sk-label:hover label.sk-toggleable__label {background-color: #d4ebff;}#sk-container-id-1 div.sk-serial::before {content: \"\";position: absolute;border-left: 1px solid gray;box-sizing: border-box;top: 0;bottom: 0;left: 50%;z-index: 0;}#sk-container-id-1 div.sk-serial {display: flex;flex-direction: column;align-items: center;background-color: white;padding-right: 0.2em;padding-left: 0.2em;position: relative;}#sk-container-id-1 div.sk-item {position: relative;z-index: 1;}#sk-container-id-1 div.sk-parallel {display: flex;align-items: stretch;justify-content: center;background-color: white;position: relative;}#sk-container-id-1 div.sk-item::before, #sk-container-id-1 div.sk-parallel-item::before {content: \"\";position: absolute;border-left: 1px solid gray;box-sizing: border-box;top: 0;bottom: 0;left: 50%;z-index: -1;}#sk-container-id-1 div.sk-parallel-item {display: flex;flex-direction: column;z-index: 1;position: relative;background-color: white;}#sk-container-id-1 div.sk-parallel-item:first-child::after {align-self: flex-end;width: 50%;}#sk-container-id-1 div.sk-parallel-item:last-child::after {align-self: flex-start;width: 50%;}#sk-container-id-1 div.sk-parallel-item:only-child::after {width: 0;}#sk-container-id-1 div.sk-dashed-wrapped {border: 1px dashed gray;margin: 0 0.4em 0.5em 0.4em;box-sizing: border-box;padding-bottom: 0.4em;background-color: white;}#sk-container-id-1 div.sk-label label {font-family: monospace;font-weight: bold;display: inline-block;line-height: 1.2em;}#sk-container-id-1 div.sk-label-container {text-align: center;}#sk-container-id-1 div.sk-container {/* jupyter's `normalize.less` sets `[hidden] { display: none; }` but bootstrap.min.css set `[hidden] { display: none !important; }` so we also need the `!important` here to be able to override the default hidden behavior on the sphinx rendered scikit-learn.org. See: https://github.com/scikit-learn/scikit-learn/issues/21755 */display: inline-block !important;position: relative;}#sk-container-id-1 div.sk-text-repr-fallback {display: none;}</style><div id=\"sk-container-id-1\" class=\"sk-top-container\"><div class=\"sk-text-repr-fallback\"><pre>RandomForestRegressor(random_state=42)</pre><b>In a Jupyter environment, please rerun this cell to show the HTML representation or trust the notebook. <br />On GitHub, the HTML representation is unable to render, please try loading this page with nbviewer.org.</b></div><div class=\"sk-container\" hidden><div class=\"sk-item\"><div class=\"sk-estimator sk-toggleable\"><input class=\"sk-toggleable__control sk-hidden--visually\" id=\"sk-estimator-id-1\" type=\"checkbox\" checked><label for=\"sk-estimator-id-1\" class=\"sk-toggleable__label sk-toggleable__label-arrow\">RandomForestRegressor</label><div class=\"sk-toggleable__content\"><pre>RandomForestRegressor(random_state=42)</pre></div></div></div></div></div>"
            ]
          },
          "metadata": {},
          "execution_count": 25
        }
      ]
    },
    {
      "cell_type": "markdown",
      "source": [
        "Model Evaluation"
      ],
      "metadata": {
        "id": "rCEE_ELtUOUm"
      }
    },
    {
      "cell_type": "code",
      "source": [
        "from sklearn.metrics import mean_squared_error,r2_score,mean_absolute_error\n",
        "import numpy as np\n",
        "y_pred=model.predict(X_test)\n",
        "mse=mean_squared_error(y_test,y_pred)\n",
        "mae=mean_absolute_error(y_test,y_pred)\n",
        "r2=r2_score(y_test,y_pred)\n",
        "print(\"MSE = \",mse)\n",
        "print(\"RMSE = \",np.sqrt(mse))\n",
        "print(\"R2 Score = \",r2)\n",
        "print(\"MAE = \",mae)"
      ],
      "metadata": {
        "colab": {
          "base_uri": "https://localhost:8080/"
        },
        "id": "e8QYRkIuCyEn",
        "outputId": "473fee75-9bb2-4aff-d5a9-f4fca11cd14e"
      },
      "execution_count": 26,
      "outputs": [
        {
          "output_type": "stream",
          "name": "stdout",
          "text": [
            "MSE =  0.05268581910080871\n",
            "RMSE =  0.22953391710335252\n",
            "R2 Score =  0.943482881787665\n",
            "MAE =  0.12195093521085076\n"
          ]
        }
      ]
    },
    {
      "cell_type": "markdown",
      "source": [
        "Inverse Transforming Encoded Categorical Features"
      ],
      "metadata": {
        "id": "S7aQGzY8USOD"
      }
    },
    {
      "cell_type": "code",
      "source": [
        "ads_data['Campaign type'] = label_encoder_campaign.inverse_transform(ads_data['Campaign type'])\n",
        "ads_data['Source_Category'] = label_encoder_source.inverse_transform(ads_data['Source_Category'])\n",
        "ads_data['Channel']= label_encoder_channel.inverse_transform(ads_data['Channel'])"
      ],
      "metadata": {
        "id": "lUdRr-zaC0I_"
      },
      "execution_count": 27,
      "outputs": []
    },
    {
      "cell_type": "markdown",
      "source": [
        "Aggregating Ads Data by Source and Campaign"
      ],
      "metadata": {
        "id": "YIYV40cxUbRc"
      }
    },
    {
      "cell_type": "code",
      "source": [
        "grouped_data = ads_data.groupby(['Source_Category', 'Campaign type']).agg({\n",
        "    'Conversions': 'sum',\n",
        "    'Clicks': 'sum',\n",
        "    'Impressions': 'sum',\n",
        "    'Cost': 'sum',\n",
        "    'Revenue': 'sum'\n",
        "}).reset_index()\n"
      ],
      "metadata": {
        "id": "I-711vwiLzbu"
      },
      "execution_count": 28,
      "outputs": []
    },
    {
      "cell_type": "markdown",
      "source": [
        "Budget Allocation"
      ],
      "metadata": {
        "id": "1xGuQN1VUohD"
      }
    },
    {
      "cell_type": "code",
      "source": [
        "grouped_data['Conversion_Weight'] = grouped_data['Conversions'] / grouped_data['Conversions'].sum()\n",
        "total_budget = int(input(\"Enter total budget\"))\n",
        "grouped_data['Initial_Budget'] = grouped_data['Conversion_Weight'] * total_budget\n",
        "zero_budget_groups = grouped_data[grouped_data['Initial_Budget'] == 0]\n",
        "min_budget = 0.01*total_budget\n",
        "grouped_data.loc[grouped_data['Initial_Budget'] == 0, 'Initial_Budget'] = min_budget\n",
        "allocated_budget = grouped_data['Initial_Budget'].sum()\n",
        "remaining_budget = total_budget - allocated_budget\n",
        "grouped_data['Adjusted_Weight'] = grouped_data['Conversion_Weight']\n",
        "grouped_data['Final_Budget'] = grouped_data['Initial_Budget'] + (grouped_data['Adjusted_Weight'] / grouped_data['Adjusted_Weight'].sum()) * remaining_budget\n",
        "final_total_budget = grouped_data['Final_Budget'].sum()\n",
        "adjustment = total_budget - final_total_budget\n",
        "grouped_data['Final_Budget'] += adjustment\n"
      ],
      "metadata": {
        "id": "reGNk3LRL27V",
        "colab": {
          "base_uri": "https://localhost:8080/"
        },
        "outputId": "3bdb6367-9fa2-4c39-d739-09cd6dbdc0c6"
      },
      "execution_count": 29,
      "outputs": [
        {
          "name": "stdout",
          "output_type": "stream",
          "text": [
            "Enter total budget200000\n"
          ]
        }
      ]
    },
    {
      "cell_type": "code",
      "source": [
        "print(grouped_data[['Source_Category', 'Campaign type', 'Final_Budget']])"
      ],
      "metadata": {
        "colab": {
          "base_uri": "https://localhost:8080/"
        },
        "id": "xyZbncrjMPLN",
        "outputId": "4ba521a9-19f6-4e80-90be-fdec3abcb5dc"
      },
      "execution_count": 30,
      "outputs": [
        {
          "output_type": "stream",
          "name": "stdout",
          "text": [
            "  Source_Category     Campaign type  Final_Budget\n",
            "0          Google     Cross-network  81512.902450\n",
            "1          Google   Display Network   2000.000000\n",
            "2          Google    Search Network  56732.654819\n",
            "3          Google           YouTube    141.816761\n",
            "4            Meta           General  27718.730591\n",
            "5       Microsoft          Audience    545.449081\n",
            "6       Microsoft   Performance max   1190.070723\n",
            "7       Microsoft  Search & content  20062.608940\n",
            "8       Microsoft          Shopping  10095.766634\n"
          ]
        }
      ]
    },
    {
      "cell_type": "code",
      "source": [
        "print(grouped_data['Final_Budget'].sum())"
      ],
      "metadata": {
        "colab": {
          "base_uri": "https://localhost:8080/"
        },
        "id": "TGkf4ZnpVeVd",
        "outputId": "72972f29-68d6-4b4e-d964-54c03d5fd9a8"
      },
      "execution_count": 31,
      "outputs": [
        {
          "output_type": "stream",
          "name": "stdout",
          "text": [
            "199999.99999999977\n"
          ]
        }
      ]
    },
    {
      "cell_type": "markdown",
      "source": [
        "Bar Chart for Budget Allocation for Source and Campaign Type"
      ],
      "metadata": {
        "id": "xqz5yITZohuF"
      }
    },
    {
      "cell_type": "code",
      "source": [
        "allocation_distribution = grouped_data.groupby(['Source_Category', 'Campaign type'])['Final_Budget'].sum()\n",
        "\n",
        "# Reset index to get a DataFrame suitable for plotting\n",
        "allocation_df = allocation_distribution.reset_index()\n",
        "\n",
        "# Shorten labels for clarity\n",
        "labels = [f\"{source} - {campaign}\" for source, campaign in allocation_df[['Source_Category', 'Campaign type']].values]\n",
        "\n",
        "# Plotting the bar chart\n",
        "plt.figure(figsize=(14, 8))\n",
        "plt.barh(labels, allocation_df['Final_Budget'], color='skyblue')\n",
        "plt.xlabel('Final Allocation')\n",
        "plt.ylabel('Source Category - Campaign Type')\n",
        "plt.title('Budget Allocation by Source Category and Campaign Type')\n",
        "plt.tight_layout()\n",
        "plt.show()"
      ],
      "metadata": {
        "colab": {
          "base_uri": "https://localhost:8080/",
          "height": 827
        },
        "id": "szzhYonXnhBB",
        "outputId": "8dc7d52a-8506-4c66-eed2-a3bf1ddbe2cd"
      },
      "execution_count": 34,
      "outputs": [
        {
          "output_type": "display_data",
          "data": {
            "text/plain": [
              "<Figure size 1400x800 with 1 Axes>"
            ],
            "image/png": "[encoded data removed]"
          },
          "metadata": {}
        }
      ]
    },
    {
      "cell_type": "markdown",
      "source": [
        "Calculating and Merging Total Conversions by Source and Channel"
      ],
      "metadata": {
        "id": "jKEHdu45Uytn"
      }
    },
    {
      "cell_type": "code",
      "source": [
        "import pandas as pd\n",
        "\n",
        "# Group by Source_Category and Channel to calculate total conversions\n",
        "channel_grouped_data = website_df.groupby(['Source_Category', 'Channel']).agg({\n",
        "    'Is Converted': 'sum'\n",
        "}).reset_index()\n",
        "\n",
        "# Calculate the total conversions for each Source_Category\n",
        "source_conversions = channel_grouped_data.groupby('Source_Category')['Is Converted'].sum().reset_index()\n",
        "source_conversions = source_conversions.rename(columns={'Is Converted': 'Total_Conversions'})\n",
        "\n",
        "# Merge total conversions back to channel_grouped_data\n",
        "channel_grouped_data = channel_grouped_data.merge(source_conversions, on='Source_Category', how='left')\n"
      ],
      "metadata": {
        "id": "8k8SFNtWOIr6"
      },
      "execution_count": 35,
      "outputs": []
    },
    {
      "cell_type": "markdown",
      "source": [
        "Calculating Conversion Weight and Initial Budget for Channels"
      ],
      "metadata": {
        "id": "EA1i_KqWU5XT"
      }
    },
    {
      "cell_type": "code",
      "source": [
        "# Calculate conversion weight\n",
        "channel_grouped_data['Conversion_Weight'] = channel_grouped_data['Is Converted'] / channel_grouped_data['Total_Conversions']\n",
        "\n",
        "# Merge the source budget information\n",
        "channel_grouped_data = channel_grouped_data.merge(grouped_data[['Source_Category', 'Final_Budget']], on='Source_Category', how='left')\n",
        "\n",
        "# Calculate the initial budget based on conversion weight\n",
        "channel_grouped_data['Initial_Channel_Budget'] = channel_grouped_data['Conversion_Weight'] * channel_grouped_data['Final_Budget']\n"
      ],
      "metadata": {
        "id": "rKsAweJYPiyI"
      },
      "execution_count": 36,
      "outputs": []
    },
    {
      "cell_type": "code",
      "source": [
        "minimum_paid_budget_percentage = 0.10\n",
        "\n",
        "# Identify paid and paid search channels\n",
        "paid_mask = channel_grouped_data['Channel'].isin(['paid', 'paid search'])\n",
        "\n",
        "# Calculate the minimum allowed budget for these channels\n",
        "channel_grouped_data['Minimum_Allowed_Budget'] = channel_grouped_data.apply(\n",
        "    lambda row: row['Final_Budget'] * minimum_paid_budget_percentage if row['Channel'] in ['paid', 'paid search'] else 0,\n",
        "    axis=1\n",
        ")\n",
        "\n",
        "# Apply the minimum budget constraint to paid and paid search channels\n",
        "channel_grouped_data['Channel_Budget'] = channel_grouped_data[['Initial_Channel_Budget', 'Minimum_Allowed_Budget']].max(axis=1)\n"
      ],
      "metadata": {
        "id": "_S0wNc_qPlW2"
      },
      "execution_count": 37,
      "outputs": []
    },
    {
      "cell_type": "code",
      "source": [
        "# Calculate total allocated budget\n",
        "total_allocated_budget = channel_grouped_data.groupby('Source_Category')['Channel_Budget'].sum().reset_index()\n",
        "total_allocated_budget = total_allocated_budget.rename(columns={'Channel_Budget': 'Total_Allocated_Budget'})\n",
        "\n",
        "# Merge total allocated budget back into the main DataFrame\n",
        "channel_grouped_data = channel_grouped_data.merge(total_allocated_budget, on='Source_Category', how='left')\n",
        "\n",
        "# Calculate remaining budget\n",
        "channel_grouped_data['Remaining_Budget'] = channel_grouped_data['Final_Budget'] - channel_grouped_data['Total_Allocated_Budget']\n",
        "\n",
        "# Calculate the total remaining budget for scaling\n",
        "total_remaining_budget = channel_grouped_data['Remaining_Budget'].sum()\n",
        "\n",
        "# Scale down the allocations proportionally if total budget exceeds the total allowed\n",
        "total_budget = 200000  # Define total budget\n",
        "total_allocated = total_allocated_budget['Total_Allocated_Budget'].sum()\n",
        "\n",
        "if total_allocated > total_budget:\n",
        "    # Calculate scaling ratio\n",
        "    scaling_ratio = total_budget / total_allocated\n",
        "\n",
        "    # Scale down the budget allocation\n",
        "    channel_grouped_data['Final_Channel_Budget'] = (\n",
        "        channel_grouped_data['Channel_Budget'] * scaling_ratio\n",
        "    ).clip(lower=0)  # Ensure no negative values\n",
        "\n",
        "else:\n",
        "    # If within budget, use the calculated channel budget\n",
        "    channel_grouped_data['Final_Channel_Budget'] = channel_grouped_data['Channel_Budget'].clip(lower=0)  # Ensure no negative values\n",
        "\n",
        "# Display final budget allocation for each Source_Category and Channel\n",
        "\n"
      ],
      "metadata": {
        "id": "q9V2HKPGPnur"
      },
      "execution_count": 38,
      "outputs": []
    },
    {
      "cell_type": "code",
      "source": [
        "# Group by Source_Category and Channel, then sum the Channel_Budget\n",
        "aggregated_data = channel_grouped_data.groupby(['Source_Category', 'Channel']).agg({\n",
        "    'Final_Channel_Budget': 'sum'\n",
        "}).reset_index()\n",
        "\n",
        "# Display the aggregated data\n",
        "print(aggregated_data)\n"
      ],
      "metadata": {
        "colab": {
          "base_uri": "https://localhost:8080/"
        },
        "id": "JPwV9YL2OcrZ",
        "outputId": "e0f125f1-0411-4d5a-f763-01d7e2f733eb"
      },
      "execution_count": 39,
      "outputs": [
        {
          "output_type": "stream",
          "name": "stdout",
          "text": [
            "   Source_Category         Channel  Final_Channel_Budget\n",
            "0           Google           email            261.169045\n",
            "1           Google  organic search          21009.598762\n",
            "2           Google            paid         107572.627916\n",
            "3           Google     paid search          13117.940774\n",
            "4           Google        referral             29.018783\n",
            "5           Google          social           2306.993234\n",
            "6             Meta            paid          25900.667260\n",
            "7             Meta          social              0.000000\n",
            "8        Microsoft           email             76.611785\n",
            "9        Microsoft  organic search            796.762560\n",
            "10       Microsoft            paid          28928.609880\n"
          ]
        }
      ]
    },
    {
      "cell_type": "code",
      "source": [
        "print(aggregated_data['Final_Channel_Budget'].sum())"
      ],
      "metadata": {
        "colab": {
          "base_uri": "https://localhost:8080/"
        },
        "id": "3RTuFSwdOjrI",
        "outputId": "63f6bed8-82ba-47e4-ddf8-ea81040f0281"
      },
      "execution_count": 40,
      "outputs": [
        {
          "output_type": "stream",
          "name": "stdout",
          "text": [
            "200000.00000000003\n"
          ]
        }
      ]
    },
    {
      "cell_type": "markdown",
      "source": [
        "Bar Chart for Budget Allocation for Source and Channel:"
      ],
      "metadata": {
        "id": "Rx_H-TYmofqC"
      }
    },
    {
      "cell_type": "code",
      "source": [
        "allocation_distribution = aggregated_data.groupby(['Source_Category', 'Channel'])['Final_Channel_Budget'].sum()\n",
        "\n",
        "# Reset index to get a DataFrame suitable for plotting\n",
        "allocation_df = allocation_distribution.reset_index()\n",
        "\n",
        "# Shorten labels for clarity\n",
        "labels = [f\"{source} - {channel}\" for source, channel in allocation_df[['Source_Category', 'Channel']].values]\n",
        "\n",
        "# Plotting the bar chart\n",
        "plt.figure(figsize=(14, 8))\n",
        "plt.barh(labels, allocation_df['Final_Channel_Budget'], color='skyblue')\n",
        "plt.xlabel('Final Allocation')\n",
        "plt.ylabel('Source Category - Channel')\n",
        "plt.title('Budget Allocation by Source Category and Channel')\n",
        "plt.tight_layout()\n",
        "plt.show()"
      ],
      "metadata": {
        "colab": {
          "base_uri": "https://localhost:8080/",
          "height": 827
        },
        "id": "J2aTr0qbn9ht",
        "outputId": "4cb16bd8-d8c6-4fc0-bea5-7781ed728e05"
      },
      "execution_count": 41,
      "outputs": [
        {
          "output_type": "display_data",
          "data": {
            "text/plain": [
              "<Figure size 1400x800 with 1 Axes>"
            ],
            "image/png": "[encoded data removed]"
          },
          "metadata": {}
        }
      ]
    },
    {
      "cell_type": "markdown",
      "source": [
        "**Top Contributing Channels:**\n",
        "\n",
        "**Google - Paid:**\n",
        "This channel is contributing the most, likely because of its high conversion weight and the 10% minimum budget rule for paid channels. Google Paid channels often drive high conversions, which explains the significant budget allocation.\n",
        "\n",
        "**Google - Organic Search:**\n",
        "Organic search tends to drive a lot of traffic without direct costs, but due to its effectiveness in conversions, it receives a substantial budget. It likely has a high conversion weight relative to other channels.\n",
        "\n",
        "**Google - Paid Search:**\n",
        "Paid search also gets a sizable budget due to its strong performance in driving conversions and the application of the 10% minimum budget rule.\n",
        "\n",
        "**Meta - Paid: **\n",
        "Meta's paid channel receives a significant amount of the budget, likely due to strong conversion performance. As a paid media channel, it also benefits from the minimum budget rule.\n",
        "\n",
        "**Microsoft - Paid:**\n",
        "Like Google and Meta, Microsoft's paid channel is getting a considerable budget, probably due to its performance in driving conversions and the 10% minimum allocation rule.\n",
        "\n",
        "**Channels with Lower Contributions:**\n",
        "\n",
        "**Meta - Social:**\n",
        "This might indicate that Meta's social channel has a low conversion weight or it didn’t generate significant conversions, resulting in no budget allocation.\n",
        "\n",
        "**Google - Referral:**\n",
        "Referral channels typically drive fewer conversions, hence a smaller budget."
      ],
      "metadata": {
        "id": "GCn3HwJbiG2a"
      }
    },
    {
      "cell_type": "markdown",
      "source": [
        "Estimating conversions"
      ],
      "metadata": {
        "id": "gq7EUA9lSq2x"
      }
    },
    {
      "cell_type": "code",
      "source": [
        "# Filter out rows where Clicks is zero\n",
        "ads_data_nonzero_clicks = ads_data[ads_data['Clicks'] > 0]"
      ],
      "metadata": {
        "id": "BDiHSxYUSeKr"
      },
      "execution_count": 42,
      "outputs": []
    },
    {
      "cell_type": "markdown",
      "source": [
        "Calculating Cost to Clicks Ratio and Cost per Impression"
      ],
      "metadata": {
        "id": "LKil1fqVVRdg"
      }
    },
    {
      "cell_type": "code",
      "source": [
        "# Recalculate Cost to Clicks Ratio with non-zero Clicks\n",
        "cost_to_clicks_ratio = ads_data_nonzero_clicks['Cost'] / ads_data_nonzero_clicks['Clicks']\n",
        "cost_to_clicks_ratio = cost_to_clicks_ratio.mean()\n",
        "\n",
        "print(f'Updated Cost to Clicks Ratio: {cost_to_clicks_ratio}')\n"
      ],
      "metadata": {
        "colab": {
          "base_uri": "https://localhost:8080/"
        },
        "id": "3HK44fpkSste",
        "outputId": "93834660-7751-4514-f646-a639e89ebcd9"
      },
      "execution_count": 43,
      "outputs": [
        {
          "output_type": "stream",
          "name": "stdout",
          "text": [
            "Updated Cost to Clicks Ratio: 5.172256919756267\n"
          ]
        }
      ]
    },
    {
      "cell_type": "code",
      "source": [
        "ads_data['Cost_Per_Impression'] = ads_data['Cost'] / ads_data['Impressions']\n",
        "cost_to_impressions_ratio = ads_data['Cost_Per_Impression'].mean()\n"
      ],
      "metadata": {
        "id": "yEubopLSSyb1"
      },
      "execution_count": 44,
      "outputs": []
    },
    {
      "cell_type": "code",
      "source": [
        "budget_allocation_campaigns=grouped_data[['Source_Category', 'Campaign type', 'Final_Budget']]"
      ],
      "metadata": {
        "id": "D2sGKxWWlpAB"
      },
      "execution_count": 45,
      "outputs": []
    },
    {
      "cell_type": "markdown",
      "source": [
        "Preparing Input Features for Analysis"
      ],
      "metadata": {
        "id": "vWni8sdjVigb"
      }
    },
    {
      "cell_type": "code",
      "source": [
        "ads_data_merged = pd.merge(ads_data, budget_allocation_campaigns, how='left', on=['Source_Category', 'Campaign type'])\n",
        "\n",
        "# Handle NaN in Final_Budget (in case there's no budget for a particular campaign)\n",
        "ads_data_merged['Final_Budget'].fillna(ads_data_merged['Cost'], inplace=True)\n",
        "\n",
        "# Handle `inf` and NaN in Impressions and Clicks\n",
        "ads_data_merged.replace([np.inf, -np.inf], np.nan, inplace=True)\n",
        "ads_data_merged.fillna({'Impressions': ads_data_merged['Impressions'].median(), 'Clicks': ads_data_merged['Clicks'].median()}, inplace=True)\n",
        "\n",
        "# Scale Impressions, Clicks, and Revenue based on the new budget\n",
        "ads_data_merged['New_Impressions'] = ads_data_merged['Impressions'] * (ads_data_merged['Final_Budget'] / ads_data_merged['Cost'])\n",
        "ads_data_merged['New_Clicks'] = ads_data_merged['Clicks'] * (ads_data_merged['Final_Budget'] / ads_data_merged['Cost'])\n",
        "ads_data_merged['New_Revenue'] = ads_data_merged['Revenue'] * (ads_data_merged['Final_Budget'] / ads_data_merged['Cost'])\n",
        "\n",
        "# Create a new input DataFrame with only the necessary features\n",
        "input_features = pd.DataFrame({\n",
        "    'Campaign type': ads_data_merged['Campaign type'],\n",
        "    'Impressions': ads_data_merged['New_Impressions'],\n",
        "    'Clicks': ads_data_merged['New_Clicks'],\n",
        "    'Cost': ads_data_merged['Final_Budget'],\n",
        "    'Revenue': ads_data_merged['New_Revenue'],\n",
        "    'Source_Category': ads_data_merged['Source_Category'],\n",
        "    'Conversion_Rate': ads_data_merged['Conversion_Rate'],\n",
        "    'Avg_Time_Lag': ads_data_merged['Avg_Time_Lag'],\n",
        "    'Channel': ads_data_merged['Channel']\n",
        "})\n",
        "\n"
      ],
      "metadata": {
        "id": "4JDyJymtfy0C"
      },
      "execution_count": 46,
      "outputs": []
    },
    {
      "cell_type": "markdown",
      "source": [
        "Data Cleaning and Scaling"
      ],
      "metadata": {
        "id": "pWR83xLsVo7o"
      }
    },
    {
      "cell_type": "code",
      "source": [
        "import numpy as np\n",
        "\n",
        "# Replace inf and -inf with NaN\n",
        "ads_data_merged.replace([np.inf, -np.inf], np.nan, inplace=True)\n",
        "\n",
        "# Fill NaN values with median\n",
        "ads_data_merged.fillna({'Impressions': ads_data_merged['Impressions'].median(),\n",
        "                        'Clicks': ads_data_merged['Clicks'].median(),\n",
        "                        'Revenue': ads_data_merged['Revenue'].median(),\n",
        "                        'Cost': ads_data_merged['Cost'].median()}, inplace=True)\n",
        "\n",
        "# Avoid division by zero by replacing zero cost with a small number\n",
        "ads_data_merged['Cost'] = ads_data_merged['Cost'].replace(0, np.nanmedian(ads_data_merged['Cost']))\n",
        "\n",
        "# Scale values based on the Final Budget and Cost ratio\n",
        "ads_data_merged['New_Impressions'] = ads_data_merged['Impressions'] * (ads_data_merged['Final_Budget'] / ads_data_merged['Cost'])\n",
        "ads_data_merged['New_Clicks'] = ads_data_merged['Clicks'] * (ads_data_merged['Final_Budget'] / ads_data_merged['Cost'])\n",
        "ads_data_merged['New_Revenue'] = ads_data_merged['Revenue'] * (ads_data_merged['Final_Budget'] / ads_data_merged['Cost'])\n",
        "\n",
        "# Verify if everything calculated correctly\n",
        "ads_data_merged[['Impressions', 'New_Impressions', 'Clicks', 'New_Clicks', 'Revenue', 'New_Revenue', 'Final_Budget', 'Cost']].head()\n"
      ],
      "metadata": {
        "colab": {
          "base_uri": "https://localhost:8080/",
          "height": 206
        },
        "id": "DunSqgASaNhe",
        "outputId": "5cc4fad6-4b80-4fcc-c19e-7ec6e46154ac"
      },
      "execution_count": 47,
      "outputs": [
        {
          "output_type": "execute_result",
          "data": {
            "text/plain": [
              "   Impressions  New_Impressions  Clicks     New_Clicks  Revenue  \\\n",
              "0     143669.0     1.784379e+07   896.0  111283.804046   1410.3   \n",
              "1          3.0     5.042017e+01     0.0       0.000000      0.0   \n",
              "2       3701.0     4.228954e+05   251.0   28680.556616    576.4   \n",
              "3      36211.0     4.457749e+04     8.0       9.848386      0.0   \n",
              "4     183496.0     9.808060e+06  1172.0   62644.669949   3565.7   \n",
              "\n",
              "     New_Revenue  Final_Budget    Cost  \n",
              "0  175160.210766  81512.902450   656.3  \n",
              "1       0.000000   2000.000000   119.0  \n",
              "2   65862.441567  56732.654819   496.5  \n",
              "3       0.000000    141.816761   115.2  \n",
              "4  190590.528700  81512.902450  1525.0  "
            ],
            "text/html": [
              "\n",
              "  <div id=\"df-0bf9d752-c63e-436d-912d-1a68399757a5\" class=\"colab-df-container\">\n",
              "    <div>\n",
              "<style scoped>\n",
              "    .dataframe tbody tr th:only-of-type {\n",
              "        vertical-align: middle;\n",
              "    }\n",
              "\n",
              "    .dataframe tbody tr th {\n",
              "        vertical-align: top;\n",
              "    }\n",
              "\n",
              "    .dataframe thead th {\n",
              "        text-align: right;\n",
              "    }\n",
              "</style>\n",
              "<table border=\"1\" class=\"dataframe\">\n",
              "  <thead>\n",
              "    <tr style=\"text-align: right;\">\n",
              "      <th></th>\n",
              "      <th>Impressions</th>\n",
              "      <th>New_Impressions</th>\n",
              "      <th>Clicks</th>\n",
              "      <th>New_Clicks</th>\n",
              "      <th>Revenue</th>\n",
              "      <th>New_Revenue</th>\n",
              "      <th>Final_Budget</th>\n",
              "      <th>Cost</th>\n",
              "    </tr>\n",
              "  </thead>\n",
              "  <tbody>\n",
              "    <tr>\n",
              "      <th>0</th>\n",
              "      <td>143669.0</td>\n",
              "      <td>1.784379e+07</td>\n",
              "      <td>896.0</td>\n",
              "      <td>111283.804046</td>\n",
              "      <td>1410.3</td>\n",
              "      <td>175160.210766</td>\n",
              "      <td>81512.902450</td>\n",
              "      <td>656.3</td>\n",
              "    </tr>\n",
              "    <tr>\n",
              "      <th>1</th>\n",
              "      <td>3.0</td>\n",
              "      <td>5.042017e+01</td>\n",
              "      <td>0.0</td>\n",
              "      <td>0.000000</td>\n",
              "      <td>0.0</td>\n",
              "      <td>0.000000</td>\n",
              "      <td>2000.000000</td>\n",
              "      <td>119.0</td>\n",
              "    </tr>\n",
              "    <tr>\n",
              "      <th>2</th>\n",
              "      <td>3701.0</td>\n",
              "      <td>4.228954e+05</td>\n",
              "      <td>251.0</td>\n",
              "      <td>28680.556616</td>\n",
              "      <td>576.4</td>\n",
              "      <td>65862.441567</td>\n",
              "      <td>56732.654819</td>\n",
              "      <td>496.5</td>\n",
              "    </tr>\n",
              "    <tr>\n",
              "      <th>3</th>\n",
              "      <td>36211.0</td>\n",
              "      <td>4.457749e+04</td>\n",
              "      <td>8.0</td>\n",
              "      <td>9.848386</td>\n",
              "      <td>0.0</td>\n",
              "      <td>0.000000</td>\n",
              "      <td>141.816761</td>\n",
              "      <td>115.2</td>\n",
              "    </tr>\n",
              "    <tr>\n",
              "      <th>4</th>\n",
              "      <td>183496.0</td>\n",
              "      <td>9.808060e+06</td>\n",
              "      <td>1172.0</td>\n",
              "      <td>62644.669949</td>\n",
              "      <td>3565.7</td>\n",
              "      <td>190590.528700</td>\n",
              "      <td>81512.902450</td>\n",
              "      <td>1525.0</td>\n",
              "    </tr>\n",
              "  </tbody>\n",
              "</table>\n",
              "</div>\n",
              "    <div class=\"colab-df-buttons\">\n",
              "\n",
              "  <div class=\"colab-df-container\">\n",
              "    <button class=\"colab-df-convert\" onclick=\"convertToInteractive('df-0bf9d752-c63e-436d-912d-1a68399757a5')\"\n",
              "            title=\"Convert this dataframe to an interactive table.\"\n",
              "            style=\"display:none;\">\n",
              "\n",
              "  <svg xmlns=\"http://www.w3.org/2000/svg\" height=\"24px\" viewBox=\"0 -960 960 960\">\n",
              "    <path d=\"M120-120v-720h720v720H120Zm60-500h600v-160H180v160Zm220 220h160v-160H400v160Zm0 220h160v-160H400v160ZM180-400h160v-160H180v160Zm440 0h160v-160H620v160ZM180-180h160v-160H180v160Zm440 0h160v-160H620v160Z\"/>\n",
              "  </svg>\n",
              "    </button>\n",
              "\n",
              "  <style>\n",
              "    .colab-df-container {\n",
              "      display:flex;\n",
              "      gap: 12px;\n",
              "    }\n",
              "\n",
              "    .colab-df-convert {\n",
              "      background-color: #E8F0FE;\n",
              "      border: none;\n",
              "      border-radius: 50%;\n",
              "      cursor: pointer;\n",
              "      display: none;\n",
              "      fill: #1967D2;\n",
              "      height: 32px;\n",
              "      padding: 0 0 0 0;\n",
              "      width: 32px;\n",
              "    }\n",
              "\n",
              "    .colab-df-convert:hover {\n",
              "      background-color: #E2EBFA;\n",
              "      box-shadow: 0px 1px 2px rgba(60, 64, 67, 0.3), 0px 1px 3px 1px rgba(60, 64, 67, 0.15);\n",
              "      fill: #174EA6;\n",
              "    }\n",
              "\n",
              "    .colab-df-buttons div {\n",
              "      margin-bottom: 4px;\n",
              "    }\n",
              "\n",
              "    [theme=dark] .colab-df-convert {\n",
              "      background-color: #3B4455;\n",
              "      fill: #D2E3FC;\n",
              "    }\n",
              "\n",
              "    [theme=dark] .colab-df-convert:hover {\n",
              "      background-color: #434B5C;\n",
              "      box-shadow: 0px 1px 3px 1px rgba(0, 0, 0, 0.15);\n",
              "      filter: drop-shadow(0px 1px 2px rgba(0, 0, 0, 0.3));\n",
              "      fill: #FFFFFF;\n",
              "    }\n",
              "  </style>\n",
              "\n",
              "    <script>\n",
              "      const buttonEl =\n",
              "        document.querySelector('#df-0bf9d752-c63e-436d-912d-1a68399757a5 button.colab-df-convert');\n",
              "      buttonEl.style.display =\n",
              "        google.colab.kernel.accessAllowed ? 'block' : 'none';\n",
              "\n",
              "      async function convertToInteractive(key) {\n",
              "        const element = document.querySelector('#df-0bf9d752-c63e-436d-912d-1a68399757a5');\n",
              "        const dataTable =\n",
              "          await google.colab.kernel.invokeFunction('convertToInteractive',\n",
              "                                                    [key], {});\n",
              "        if (!dataTable) return;\n",
              "\n",
              "        const docLinkHtml = 'Like what you see? Visit the ' +\n",
              "          '<a target=\"_blank\" href=https://colab.research.google.com/notebooks/data_table.ipynb>data table notebook</a>'\n",
              "          + ' to learn more about interactive tables.';\n",
              "        element.innerHTML = '';\n",
              "        dataTable['output_type'] = 'display_data';\n",
              "        await google.colab.output.renderOutput(dataTable, element);\n",
              "        const docLink = document.createElement('div');\n",
              "        docLink.innerHTML = docLinkHtml;\n",
              "        element.appendChild(docLink);\n",
              "      }\n",
              "    </script>\n",
              "  </div>\n",
              "\n",
              "\n",
              "<div id=\"df-2c55e977-0a2d-41fe-b006-54bcae77a890\">\n",
              "  <button class=\"colab-df-quickchart\" onclick=\"quickchart('df-2c55e977-0a2d-41fe-b006-54bcae77a890')\"\n",
              "            title=\"Suggest charts\"\n",
              "            style=\"display:none;\">\n",
              "\n",
              "<svg xmlns=\"http://www.w3.org/2000/svg\" height=\"24px\"viewBox=\"0 0 24 24\"\n",
              "     width=\"24px\">\n",
              "    <g>\n",
              "        <path d=\"M19 3H5c-1.1 0-2 .9-2 2v14c0 1.1.9 2 2 2h14c1.1 0 2-.9 2-2V5c0-1.1-.9-2-2-2zM9 17H7v-7h2v7zm4 0h-2V7h2v10zm4 0h-2v-4h2v4z\"/>\n",
              "    </g>\n",
              "</svg>\n",
              "  </button>\n",
              "\n",
              "<style>\n",
              "  .colab-df-quickchart {\n",
              "      --bg-color: #E8F0FE;\n",
              "      --fill-color: #1967D2;\n",
              "      --hover-bg-color: #E2EBFA;\n",
              "      --hover-fill-color: #174EA6;\n",
              "      --disabled-fill-color: #AAA;\n",
              "      --disabled-bg-color: #DDD;\n",
              "  }\n",
              "\n",
              "  [theme=dark] .colab-df-quickchart {\n",
              "      --bg-color: #3B4455;\n",
              "      --fill-color: #D2E3FC;\n",
              "      --hover-bg-color: #434B5C;\n",
              "      --hover-fill-color: #FFFFFF;\n",
              "      --disabled-bg-color: #3B4455;\n",
              "      --disabled-fill-color: #666;\n",
              "  }\n",
              "\n",
              "  .colab-df-quickchart {\n",
              "    background-color: var(--bg-color);\n",
              "    border: none;\n",
              "    border-radius: 50%;\n",
              "    cursor: pointer;\n",
              "    display: none;\n",
              "    fill: var(--fill-color);\n",
              "    height: 32px;\n",
              "    padding: 0;\n",
              "    width: 32px;\n",
              "  }\n",
              "\n",
              "  .colab-df-quickchart:hover {\n",
              "    background-color: var(--hover-bg-color);\n",
              "    box-shadow: 0 1px 2px rgba(60, 64, 67, 0.3), 0 1px 3px 1px rgba(60, 64, 67, 0.15);\n",
              "    fill: var(--button-hover-fill-color);\n",
              "  }\n",
              "\n",
              "  .colab-df-quickchart-complete:disabled,\n",
              "  .colab-df-quickchart-complete:disabled:hover {\n",
              "    background-color: var(--disabled-bg-color);\n",
              "    fill: var(--disabled-fill-color);\n",
              "    box-shadow: none;\n",
              "  }\n",
              "\n",
              "  .colab-df-spinner {\n",
              "    border: 2px solid var(--fill-color);\n",
              "    border-color: transparent;\n",
              "    border-bottom-color: var(--fill-color);\n",
              "    animation:\n",
              "      spin 1s steps(1) infinite;\n",
              "  }\n",
              "\n",
              "  @keyframes spin {\n",
              "    0% {\n",
              "      border-color: transparent;\n",
              "      border-bottom-color: var(--fill-color);\n",
              "      border-left-color: var(--fill-color);\n",
              "    }\n",
              "    20% {\n",
              "      border-color: transparent;\n",
              "      border-left-color: var(--fill-color);\n",
              "      border-top-color: var(--fill-color);\n",
              "    }\n",
              "    30% {\n",
              "      border-color: transparent;\n",
              "      border-left-color: var(--fill-color);\n",
              "      border-top-color: var(--fill-color);\n",
              "      border-right-color: var(--fill-color);\n",
              "    }\n",
              "    40% {\n",
              "      border-color: transparent;\n",
              "      border-right-color: var(--fill-color);\n",
              "      border-top-color: var(--fill-color);\n",
              "    }\n",
              "    60% {\n",
              "      border-color: transparent;\n",
              "      border-right-color: var(--fill-color);\n",
              "    }\n",
              "    80% {\n",
              "      border-color: transparent;\n",
              "      border-right-color: var(--fill-color);\n",
              "      border-bottom-color: var(--fill-color);\n",
              "    }\n",
              "    90% {\n",
              "      border-color: transparent;\n",
              "      border-bottom-color: var(--fill-color);\n",
              "    }\n",
              "  }\n",
              "</style>\n",
              "\n",
              "  <script>\n",
              "    async function quickchart(key) {\n",
              "      const quickchartButtonEl =\n",
              "        document.querySelector('#' + key + ' button');\n",
              "      quickchartButtonEl.disabled = true;  // To prevent multiple clicks.\n",
              "      quickchartButtonEl.classList.add('colab-df-spinner');\n",
              "      try {\n",
              "        const charts = await google.colab.kernel.invokeFunction(\n",
              "            'suggestCharts', [key], {});\n",
              "      } catch (error) {\n",
              "        console.error('Error during call to suggestCharts:', error);\n",
              "      }\n",
              "      quickchartButtonEl.classList.remove('colab-df-spinner');\n",
              "      quickchartButtonEl.classList.add('colab-df-quickchart-complete');\n",
              "    }\n",
              "    (() => {\n",
              "      let quickchartButtonEl =\n",
              "        document.querySelector('#df-2c55e977-0a2d-41fe-b006-54bcae77a890 button');\n",
              "      quickchartButtonEl.style.display =\n",
              "        google.colab.kernel.accessAllowed ? 'block' : 'none';\n",
              "    })();\n",
              "  </script>\n",
              "</div>\n",
              "\n",
              "    </div>\n",
              "  </div>\n"
            ],
            "application/vnd.google.colaboratory.intrinsic+json": {
              "type": "dataframe",
              "summary": "{\n  \"name\": \"ads_data_merged[['Impressions', 'New_Impressions', 'Clicks', 'New_Clicks', 'Revenue', 'New_Revenue', 'Final_Budget', 'Cost']]\",\n  \"rows\": 5,\n  \"fields\": [\n    {\n      \"column\": \"Impressions\",\n      \"properties\": {\n        \"dtype\": \"number\",\n        \"std\": 84686.11490085018,\n        \"min\": 3.0,\n        \"max\": 183496.0,\n        \"num_unique_values\": 5,\n        \"samples\": [\n          3.0,\n          183496.0,\n          3701.0\n        ],\n        \"semantic_type\": \"\",\n        \"description\": \"\"\n      }\n    },\n    {\n      \"column\": \"New_Impressions\",\n      \"properties\": {\n        \"dtype\": \"number\",\n        \"std\": 8009990.603815672,\n        \"min\": 50.42016806722616,\n        \"max\": 17843786.655686267,\n        \"num_unique_values\": 5,\n        \"samples\": [\n          50.42016806722616,\n          9808060.031484287,\n          422895.3786234572\n        ],\n        \"semantic_type\": \"\",\n        \"description\": \"\"\n      }\n    },\n    {\n      \"column\": \"Clicks\",\n      \"properties\": {\n        \"dtype\": \"number\",\n        \"std\": 537.6986144672497,\n        \"min\": 0.0,\n        \"max\": 1172.0,\n        \"num_unique_values\": 5,\n        \"samples\": [\n          0.0,\n          1172.0,\n          251.0\n        ],\n        \"semantic_type\": \"\",\n        \"description\": \"\"\n      }\n    },\n    {\n      \"column\": \"New_Clicks\",\n      \"properties\": {\n        \"dtype\": \"number\",\n        \"std\": 47223.22552396678,\n        \"min\": 0.0,\n        \"max\": 111283.80404607045,\n        \"num_unique_values\": 5,\n        \"samples\": [\n          0.0,\n          62644.66994866147,\n          28680.55661564111\n        ],\n        \"semantic_type\": \"\",\n        \"description\": \"\"\n      }\n    },\n    {\n      \"column\": \"Revenue\",\n      \"properties\": {\n        \"dtype\": \"number\",\n        \"std\": 1489.0911983488452,\n        \"min\": 0.0,\n        \"max\": 3565.7,\n        \"num_unique_values\": 4,\n        \"samples\": [\n          0.0,\n          3565.7,\n          1410.3\n        ],\n        \"semantic_type\": \"\",\n        \"description\": \"\"\n      }\n    },\n    {\n      \"column\": \"New_Revenue\",\n      \"properties\": {\n        \"dtype\": \"number\",\n        \"std\": 92311.59551555912,\n        \"min\": 0.0,\n        \"max\": 190590.52869960936,\n        \"num_unique_values\": 4,\n        \"samples\": [\n          0.0,\n          190590.52869960936,\n          175160.21076581825\n        ],\n        \"semantic_type\": \"\",\n        \"description\": \"\"\n      }\n    },\n    {\n      \"column\": \"Final_Budget\",\n      \"properties\": {\n        \"dtype\": \"number\",\n        \"std\": 40814.74680218524,\n        \"min\": 141.816761164397,\n        \"max\": 81512.90245026343,\n        \"num_unique_values\": 4,\n        \"samples\": [\n          1999.999999999971,\n          141.816761164397,\n          81512.90245026343\n        ],\n        \"semantic_type\": \"\",\n        \"description\": \"\"\n      }\n    },\n    {\n      \"column\": \"Cost\",\n      \"properties\": {\n        \"dtype\": \"number\",\n        \"std\": 577.5703809926545,\n        \"min\": 115.2,\n        \"max\": 1525.0,\n        \"num_unique_values\": 5,\n        \"samples\": [\n          119.0,\n          1525.0,\n          496.5\n        ],\n        \"semantic_type\": \"\",\n        \"description\": \"\"\n      }\n    }\n  ]\n}"
            }
          },
          "metadata": {},
          "execution_count": 47
        }
      ]
    },
    {
      "cell_type": "markdown",
      "source": [
        "Applying Budget Ratio and Scaling"
      ],
      "metadata": {
        "id": "L8NA1kAfV1Mf"
      }
    },
    {
      "cell_type": "code",
      "source": [
        "# Ensure the ratio is within a reasonable range\n",
        "ads_data_merged['Budget_Ratio'] = ads_data_merged['Final_Budget'] / ads_data_merged['Cost']\n",
        "\n",
        "# Apply a cap or normalization if needed\n",
        "max_ratio = ads_data_merged['Budget_Ratio'].quantile(0.99)  # Top 1% ratio\n",
        "ads_data_merged['Budget_Ratio'] = ads_data_merged['Budget_Ratio'].clip(upper=max_ratio)\n",
        "\n",
        "# Recalculate scaled values\n",
        "ads_data_merged['New_Impressions'] = ads_data_merged['Impressions'] * ads_data_merged['Budget_Ratio']\n",
        "ads_data_merged['New_Clicks'] = ads_data_merged['Clicks'] * ads_data_merged['Budget_Ratio']\n",
        "ads_data_merged['New_Revenue'] = ads_data_merged['Revenue'] * ads_data_merged['Budget_Ratio']\n"
      ],
      "metadata": {
        "id": "gteXb5Afaff0"
      },
      "execution_count": 48,
      "outputs": []
    },
    {
      "cell_type": "code",
      "source": [
        "# Scale using a factor that's less likely to cause extreme values\n",
        "scaling_factor = 1  # Adjust this factor if needed\n",
        "\n",
        "ads_data_merged['New_Impressions'] = ads_data_merged['Impressions'] * scaling_factor\n",
        "ads_data_merged['New_Clicks'] = ads_data_merged['Clicks'] * scaling_factor\n",
        "ads_data_merged['New_Revenue'] = ads_data_merged['Revenue'] * scaling_factor\n"
      ],
      "metadata": {
        "id": "1YPAgyQkaw8-"
      },
      "execution_count": 49,
      "outputs": []
    },
    {
      "cell_type": "code",
      "source": [
        "input_features = pd.DataFrame({\n",
        "    'Campaign type': ads_data_merged['Campaign type'],\n",
        "    'Impressions': ads_data_merged['New_Impressions'],\n",
        "    'Clicks': ads_data_merged['New_Clicks'],\n",
        "    'Cost': ads_data_merged['Final_Budget'],\n",
        "    'Revenue': ads_data_merged['New_Revenue'],\n",
        "    'Source_Category': ads_data_merged['Source_Category'],\n",
        "    'Conversion_Rate': ads_data_merged['Conversion_Rate'],\n",
        "    'Avg_Time_Lag': ads_data_merged['Avg_Time_Lag'],\n",
        "    'Channel': ads_data_merged['Channel']\n",
        "})\n",
        "\n",
        "# Display the separate DataFrame with input features\n",
        "print(\"Input Features DataFrame:\")\n",
        "print(input_features)"
      ],
      "metadata": {
        "colab": {
          "base_uri": "https://localhost:8080/"
        },
        "id": "bq3w3GtXbgYw",
        "outputId": "0bda1131-5fff-4fcf-8269-70f3b971cfc6"
      },
      "execution_count": 50,
      "outputs": [
        {
          "output_type": "stream",
          "name": "stdout",
          "text": [
            "Input Features DataFrame:\n",
            "        Campaign type  Impressions  Clicks          Cost  Revenue  \\\n",
            "0       Cross-network     143669.0   896.0  81512.902450   1410.3   \n",
            "1     Display Network          3.0     0.0   2000.000000      0.0   \n",
            "2      Search Network       3701.0   251.0  56732.654819    576.4   \n",
            "3             YouTube      36211.0     8.0    141.816761      0.0   \n",
            "4       Cross-network     183496.0  1172.0  81512.902450   3565.7   \n",
            "...               ...          ...     ...           ...      ...   \n",
            "1612          General      13392.0   148.0  27718.730591   3196.5   \n",
            "1613          General      13092.0   161.0  27718.730591   4032.7   \n",
            "1614          General      13678.0   165.0  27718.730591   6409.1   \n",
            "1615          General      17855.0   273.0  27718.730591    649.7   \n",
            "1616          General      19402.0   261.0  27718.730591   1536.7   \n",
            "\n",
            "     Source_Category  Conversion_Rate   Avg_Time_Lag Channel  \n",
            "0             Google         0.015371      40.793737    paid  \n",
            "1             Google         0.000000  317264.625000    paid  \n",
            "2             Google         0.016270     173.328384    paid  \n",
            "3             Google         0.012974   15698.000999    paid  \n",
            "4             Google         0.015371      40.793737    paid  \n",
            "...              ...              ...            ...     ...  \n",
            "1612            Meta         0.000000       0.000000       0  \n",
            "1613            Meta         0.000000       0.000000       0  \n",
            "1614            Meta         0.000000       0.000000       0  \n",
            "1615            Meta         0.000000       0.000000       0  \n",
            "1616            Meta         0.000000       0.000000       0  \n",
            "\n",
            "[1617 rows x 9 columns]\n"
          ]
        }
      ]
    },
    {
      "cell_type": "code",
      "source": [
        "input_features.info()"
      ],
      "metadata": {
        "colab": {
          "base_uri": "https://localhost:8080/"
        },
        "id": "JN8eNMpykl01",
        "outputId": "06d828ed-a630-4f4c-c240-f1d3f28a4fe3"
      },
      "execution_count": 51,
      "outputs": [
        {
          "output_type": "stream",
          "name": "stdout",
          "text": [
            "<class 'pandas.core.frame.DataFrame'>\n",
            "RangeIndex: 1617 entries, 0 to 1616\n",
            "Data columns (total 9 columns):\n",
            " #   Column           Non-Null Count  Dtype  \n",
            "---  ------           --------------  -----  \n",
            " 0   Campaign type    1617 non-null   object \n",
            " 1   Impressions      1617 non-null   float64\n",
            " 2   Clicks           1617 non-null   float64\n",
            " 3   Cost             1617 non-null   float64\n",
            " 4   Revenue          1617 non-null   float64\n",
            " 5   Source_Category  1617 non-null   object \n",
            " 6   Conversion_Rate  1617 non-null   float64\n",
            " 7   Avg_Time_Lag     1617 non-null   float64\n",
            " 8   Channel          1617 non-null   object \n",
            "dtypes: float64(6), object(3)\n",
            "memory usage: 113.8+ KB\n"
          ]
        }
      ]
    },
    {
      "cell_type": "markdown",
      "source": [
        "Label Encoding"
      ],
      "metadata": {
        "id": "vJ0f6d5LWucg"
      }
    },
    {
      "cell_type": "code",
      "source": [
        "input_features['Source_Category'] = label_encoder_source.transform(input_features['Source_Category'])\n",
        "input_features['Campaign type'] = label_encoder_campaign.transform(input_features['Campaign type'])\n",
        "input_features['Channel'] = label_encoder_channel.transform(input_features['Channel'])\n"
      ],
      "metadata": {
        "id": "KBXzA0ANXwzg"
      },
      "execution_count": 52,
      "outputs": []
    },
    {
      "cell_type": "markdown",
      "source": [
        "Checking for Infinity Values"
      ],
      "metadata": {
        "id": "6-Urekr0Wxqo"
      }
    },
    {
      "cell_type": "code",
      "source": [
        "# Check for infinity values in the DataFrame\n",
        "inf_values = input_features[numerical_features].isin([float('inf'), float('-inf')])\n",
        "\n",
        "# Count the number of rows that contain inf values\n",
        "rows_with_inf = inf_values.any(axis=1).sum()\n",
        "\n",
        "# Total number of rows in the DataFrame\n",
        "total_rows = len(input_features)\n",
        "\n",
        "# Calculate the percentage of rows with inf values\n",
        "percentage_with_inf = (rows_with_inf / total_rows) * 100\n",
        "\n",
        "# Display the percentage\n",
        "print(f\"Percentage of rows with inf values: {percentage_with_inf:.2f}%\")\n"
      ],
      "metadata": {
        "colab": {
          "base_uri": "https://localhost:8080/"
        },
        "id": "3-RCYH6fYXA9",
        "outputId": "a1be5eb4-89dc-4f26-86f2-0a87575740e3"
      },
      "execution_count": 53,
      "outputs": [
        {
          "output_type": "stream",
          "name": "stdout",
          "text": [
            "Percentage of rows with inf values: 0.00%\n"
          ]
        }
      ]
    },
    {
      "cell_type": "code",
      "source": [
        "input_features.info()"
      ],
      "metadata": {
        "colab": {
          "base_uri": "https://localhost:8080/"
        },
        "id": "b3LihmutbEnT",
        "outputId": "380f8aa8-e227-482d-f5a9-35842e7b5420"
      },
      "execution_count": 54,
      "outputs": [
        {
          "output_type": "stream",
          "name": "stdout",
          "text": [
            "<class 'pandas.core.frame.DataFrame'>\n",
            "RangeIndex: 1617 entries, 0 to 1616\n",
            "Data columns (total 9 columns):\n",
            " #   Column           Non-Null Count  Dtype  \n",
            "---  ------           --------------  -----  \n",
            " 0   Campaign type    1617 non-null   int64  \n",
            " 1   Impressions      1617 non-null   float64\n",
            " 2   Clicks           1617 non-null   float64\n",
            " 3   Cost             1617 non-null   float64\n",
            " 4   Revenue          1617 non-null   float64\n",
            " 5   Source_Category  1617 non-null   int64  \n",
            " 6   Conversion_Rate  1617 non-null   float64\n",
            " 7   Avg_Time_Lag     1617 non-null   float64\n",
            " 8   Channel          1617 non-null   int64  \n",
            "dtypes: float64(6), int64(3)\n",
            "memory usage: 113.8 KB\n"
          ]
        }
      ]
    },
    {
      "cell_type": "markdown",
      "source": [
        "Checking for null values"
      ],
      "metadata": {
        "id": "obIo5e8vcZRU"
      }
    },
    {
      "cell_type": "code",
      "source": [
        "# Check if there are any remaining NaN or infinite values\n",
        "print(input_features[numerical_features].isna().sum())  # Should print all zeros\n",
        "print(np.isinf(input_features[numerical_features]).sum())  # Should also print all zeros\n"
      ],
      "metadata": {
        "colab": {
          "base_uri": "https://localhost:8080/"
        },
        "id": "ZcMY84ioZwMu",
        "outputId": "5310bc55-f8a2-49eb-9229-4151dea214c1"
      },
      "execution_count": 55,
      "outputs": [
        {
          "output_type": "stream",
          "name": "stdout",
          "text": [
            "Impressions        0\n",
            "Clicks             0\n",
            "Cost               0\n",
            "Revenue            0\n",
            "Conversion_Rate    0\n",
            "Avg_Time_Lag       0\n",
            "dtype: int64\n",
            "Impressions        0\n",
            "Clicks             0\n",
            "Cost               0\n",
            "Revenue            0\n",
            "Conversion_Rate    0\n",
            "Avg_Time_Lag       0\n",
            "dtype: int64\n"
          ]
        }
      ]
    },
    {
      "cell_type": "markdown",
      "source": [
        "Predicting Conversions using the model"
      ],
      "metadata": {
        "id": "OL-KBrRlXQdy"
      }
    },
    {
      "cell_type": "code",
      "source": [
        "predicted_conversions_scaled = model.predict(input_features)"
      ],
      "metadata": {
        "id": "neunzxEHY-1t"
      },
      "execution_count": 56,
      "outputs": []
    },
    {
      "cell_type": "markdown",
      "source": [
        "Inverse transforming the features"
      ],
      "metadata": {
        "id": "lg4K6kSUW9zv"
      }
    },
    {
      "cell_type": "code",
      "source": [
        "input_features['Campaign type'] = label_encoder_campaign.inverse_transform(input_features['Campaign type'])\n",
        "input_features['Source_Category'] = label_encoder_source.inverse_transform(input_features['Source_Category'])\n",
        "input_features['Channel']= label_encoder_channel.inverse_transform(input_features['Channel'])"
      ],
      "metadata": {
        "id": "IfxctuzQdYBQ"
      },
      "execution_count": 57,
      "outputs": []
    },
    {
      "cell_type": "markdown",
      "source": [
        "Estimating Conversions"
      ],
      "metadata": {
        "id": "gGgyPHxfXCKk"
      }
    },
    {
      "cell_type": "code",
      "source": [
        "predicted_conversions = y_scaler.inverse_transform(predicted_conversions_scaled.reshape(-1, 1))\n",
        "input_features['Predicted_Conversions'] = predicted_conversions\n",
        "# Group by 'Source_Category' and 'Campaign type' and calculate the sum of predicted conversions\n",
        "grouped_predictions = input_features.groupby(['Source_Category', 'Campaign type'])['Predicted_Conversions'].sum().reset_index()\n",
        "\n",
        "# Display the grouped results\n",
        "print(grouped_predictions)"
      ],
      "metadata": {
        "colab": {
          "base_uri": "https://localhost:8080/"
        },
        "id": "zRn-dj8eZFnJ",
        "outputId": "0501b3d0-f122-4dd2-9fe4-96b9937e0552"
      },
      "execution_count": 58,
      "outputs": [
        {
          "output_type": "stream",
          "name": "stdout",
          "text": [
            "  Source_Category     Campaign type  Predicted_Conversions\n",
            "0          Google     Cross-network              14979.146\n",
            "1          Google   Display Network               3014.823\n",
            "2          Google    Search Network              14979.146\n",
            "3          Google           YouTube               4465.862\n",
            "4            Meta           General              14302.030\n",
            "5       Microsoft          Audience               6007.446\n",
            "6       Microsoft   Performance max               6816.566\n",
            "7       Microsoft  Search & content              14917.047\n",
            "8       Microsoft          Shopping              14657.392\n"
          ]
        }
      ]
    },
    {
      "cell_type": "code",
      "source": [],
      "metadata": {
        "id": "XbvICswsor1n"
      },
      "execution_count": null,
      "outputs": []
    }
  ]
}